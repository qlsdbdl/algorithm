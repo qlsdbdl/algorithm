{
 "cells": [
  {
   "cell_type": "markdown",
   "id": "21a45822",
   "metadata": {},
   "source": [
    "### Q03"
   ]
  },
  {
   "cell_type": "code",
   "execution_count": null,
   "id": "57ff6a2a",
   "metadata": {},
   "outputs": [
    {
     "name": "stdout",
     "output_type": "stream",
     "text": [
      "5 12\n",
      "4 12\n",
      "2 12\n",
      "3 11\n",
      "0 11\n",
      "1 10\n",
      "9 9\n",
      "6 9\n",
      "8 7\n",
      "7 7\n",
      "[(5, 12), (4, 12), (2, 12), (3, 11), (0, 11), (1, 10), (9, 9), (6, 9), (8, 7), (7, 7)]\n",
      "Passcode = 5 + 12 = 17\n"
     ]
    }
   ],
   "source": [
    "from collections import Counter  # Counter는 딕셔너리처럼 작동하는 특수 자료형\n",
    "\n",
    "nums = [\n",
    "    5, 2, 4, 3, 9, 0, 4, 1, 3, 5,\n",
    "    6, 8, 4, 2, 7, 6, 0, 9, 3, 5,\n",
    "    2, 1, 4, 7, 8, 2, 9, 3, 5, 0,\n",
    "    1, 1, 6, 5, 4, 4, 3, 9, 2, 2,\n",
    "    8, 7, 0, 6, 5, 5, 3, 4, 1, 2,\n",
    "    0, 0, 9, 9, 6, 3, 2, 4, 7, 8,\n",
    "    5, 1, 1, 0, 0, 6, 8, 9, 2, 3,\n",
    "    5, 7, 4, 0, 1, 2, 8, 5, 6, 3,\n",
    "    9, 0, 4, 2, 3, 1, 7, 6, 5, 4,\n",
    "    8, 9, 0, 2, 1, 3, 5, 4, 6, 7\n",
    "]\n",
    "\n",
    "\n",
    "# collections.Counter 사용해서 등장 횟수 세기\n",
    "# Counter는 자동으로 {숫자: 횟수} 형태의 딕셔너리를 만들어줌\n",
    "freq = Counter(nums)\n",
    "\n",
    "# Counter는 딕셔너리처럼 사용 가능:\n",
    "# 예: freq[5]는 숫자 5가 몇 번 나왔는지를 알려줌\n",
    "\n",
    "# 정렬 기준 설정\n",
    "# 등장 횟수는 내림차순 (큰 수 먼저: -x[1])\n",
    "# 숫자는 오름차순 (작은 수 먼저: x[0]\n",
    "# 정렬 수행 (딕셔너리 항목들을 튜플 리스트로 정렬)\n",
    "sorted_items = sorted(freq.items(), key=lambda x: (-x[1], -x[0]))\n",
    "\n",
    "# 출력\n",
    "for num, count in sorted_items:\n",
    "    print(num, count)\n",
    "\n",
    "# 리스트 출력\n",
    "print(sorted_items)\n",
    "\n",
    "# Passcode 출력\n",
    "sum_tuple = sorted_items[0] \n",
    "result = sum_tuple[0] + sum_tuple[1]\n",
    "print(f\"Passcode = {sum_tuple[0]} + {sum_tuple[1]} = {result}\")\n"
   ]
  },
  {
   "cell_type": "code",
   "execution_count": null,
   "id": "5d6a2bb4",
   "metadata": {},
   "outputs": [],
   "source": [
    "'''\n",
    "5 12\n",
    "4 12\n",
    "2 12\n",
    "3 11\n",
    "0 11\n",
    "1 10\n",
    "9 9\n",
    "6 9\n",
    "8 7\n",
    "7 7\n",
    "[(5, 12), (4, 12), (2, 12), (3, 11), (0, 11), (1, 10), (9, 9), (6, 9), (8, 7), (7, 7)]\n",
    "Passcode = 5 + 12 = 17\n",
    "'''"
   ]
  },
  {
   "cell_type": "code",
   "execution_count": null,
   "id": "3316dd4e",
   "metadata": {},
   "outputs": [],
   "source": [
    "# 중복 정렬을 진행할 때, 출력형식을 리스트안에 튜플 형태로 출력하려고 해. 일단 나는 counter을 사용해서 만들고 있는데, def sort_key(item): return (-item[1], item[0])를 사용해서 하고 있어. 이 결과들을 리스트 안에 출력하려면 새로운 list를 만드는 것이 필요한걸까?\n",
    "\n",
    "# sort부분을 lambda로 사용하고자 해\n",
    "\n",
    "# sort_key 함수에 key = lambda를 사용하여 풀 수 있을까?\n",
    "\n",
    "# def sort_key(item): return (-items[1], -items[0]) 이 부분을 lambda로 표현하기 위해서는 item을 x로 변경하고, sorted_items = sorted(freq.items(), key=sort_key) 이렇게 하면 될까?\n",
    "\n",
    "# 마지막으로 list의 가장 첫 튜플 값을 더하려고 해 list[0]을 출력하는 방식으로 진행하면 될까?"
   ]
  }
 ],
 "metadata": {
  "kernelspec": {
   "display_name": "bigdata",
   "language": "python",
   "name": "python3"
  },
  "language_info": {
   "codemirror_mode": {
    "name": "ipython",
    "version": 3
   },
   "file_extension": ".py",
   "mimetype": "text/x-python",
   "name": "python",
   "nbconvert_exporter": "python",
   "pygments_lexer": "ipython3",
   "version": "3.8.20"
  }
 },
 "nbformat": 4,
 "nbformat_minor": 5
}

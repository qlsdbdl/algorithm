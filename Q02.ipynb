{
  "nbformat": 4,
  "nbformat_minor": 0,
  "metadata": {
    "colab": {
      "provenance": [],
      "include_colab_link": true
    },
    "kernelspec": {
      "name": "python3",
      "display_name": "Python 3"
    },
    "language_info": {
      "name": "python"
    }
  },
  "cells": [
    {
      "cell_type": "markdown",
      "metadata": {
        "id": "view-in-github",
        "colab_type": "text"
      },
      "source": [
        "<a href=\"https://colab.research.google.com/github/YJP0128/algo_midterm_team1/blob/main/Q02.ipynb\" target=\"_parent\"><img src=\"https://colab.research.google.com/assets/colab-badge.svg\" alt=\"Open In Colab\"/></a>"
      ]
    },
    {
      "cell_type": "code",
      "execution_count": 1,
      "metadata": {
        "id": "TEIkWhCngsag"
      },
      "outputs": [],
      "source": [
        "# 반복형\n",
        "def binary_search(arr, target):\n",
        "    start_index, end_index = 0,0\n",
        "    left, right = 0, len(arr) - 1\n",
        "\n",
        "    # left가 right보다 커지는 경우 리스트 안에 값이 없다는 의미이므로 계속 진행할 이유 없음. while문 끝남\n",
        "    while left <= right:\n",
        "        mid = (left + right) // 2 # 리스트의 가운에 값으로 지정\n",
        "\n",
        "\n",
        "        if arr[mid] == target: # 찾고자 하는 값을 찾은 경우\n",
        "            # 인덱스 번호 찾기\n",
        "            # start_index\n",
        "            for i in range(len(arr)):\n",
        "                if arr[i] == target:\n",
        "                    start_index = i\n",
        "                    break\n",
        "\n",
        "            # end_index\n",
        "            for j in range(len(arr)-1,0, -1):\n",
        "                if arr[j] == target: # 뒤에서부터 시작해서 target을 찾았을 때\n",
        "                    end_index = j\n",
        "                    break\n",
        "\n",
        "            return start_index, end_index\n",
        "\n",
        "        elif arr[mid] < target:\n",
        "            left = mid + 1  # 오른쪽으로 이동. 왼쪽 배열은 더이상 안봐도 되는 경우\n",
        "        else:\n",
        "            right = mid - 1  # 왼쪽으로 이동. 오른쪽 배열은 더이상 안봐도 되는 경우\n",
        "\n",
        "    start_index, end_index = '', '' # 만약 리스트 안에 값이 없는 경우\n",
        "    return start_index, end_index\n",
        "\n",
        "\n",
        "\n"
      ]
    },
    {
      "cell_type": "code",
      "source": [
        "lst = [31, -36, -47, 44, -15, -19, -22, -33, 44, -37, 36, 44, 19, -39, 25, 4, -46, -47, -39, -23,\n",
        " -21, 14, 27, -47, 21, -25, 41, 33, 39, 19, 3, -22, 7, 25, -15, -50, 47, -30, 39, 4,\n",
        " -7, -15, -31, -23, 47, -7, -37, -39, -2, -38, -5, -6, 27, -17, -45, 43, 8, 18, -35, -2,\n",
        " -40, 20, -13, 30, 29, -4, 23, -26, 40, -42, -45, 34, -21, 48, -13, -40, -21, -38, -2, -15,\n",
        " 8, 31, -4, -30, -3, -5, -24, 35, -16, 39, 37, 32, -41, 27, 31, -29, 18, 43, -19, -30]\n",
        "\n",
        "target = -15\n",
        "\n",
        "# 정렬 lst\n",
        "lst = sorted(lst)\n",
        "\n",
        "# print(\"정렬된 랜덤 정수들:\", lst)\n",
        "\n",
        "# start_index, end_index\n",
        "start_index, end_index = binary_search(lst, target)\n",
        "\n",
        "print(start_index, end_index)\n",
        "print(f'PASSCORD = {start_index} + {end_index} = ',start_index + end_index)"
      ],
      "metadata": {
        "id": "DYFJtJVsgu0r",
        "outputId": "47713925-a55c-41b7-899a-1cfde325b3b2",
        "colab": {
          "base_uri": "https://localhost:8080/"
        }
      },
      "execution_count": 2,
      "outputs": [
        {
          "output_type": "stream",
          "name": "stdout",
          "text": [
            "40 43\n",
            "PASSCORD = 40 + 43 =  83\n"
          ]
        }
      ]
    },
    {
      "cell_type": "code",
      "source": [
        "'''\n",
        "40 43\n",
        "PASSCORD = 40 + 43 =  83\n",
        "'''"
      ],
      "metadata": {
        "colab": {
          "base_uri": "https://localhost:8080/",
          "height": 36
        },
        "id": "6Se7yBAcSM5G",
        "outputId": "6893af59-e748-4ebc-9500-9c332a0ed22e"
      },
      "execution_count": 3,
      "outputs": [
        {
          "output_type": "execute_result",
          "data": {
            "text/plain": [
              "'\\n40 43\\nPASSCORD = 40 + 43 =  83\\n'"
            ],
            "application/vnd.google.colaboratory.intrinsic+json": {
              "type": "string"
            }
          },
          "metadata": {},
          "execution_count": 3
        }
      ]
    }
  ]
}
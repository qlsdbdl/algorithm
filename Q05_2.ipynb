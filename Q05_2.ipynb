{
 "cells": [
  {
   "cell_type": "markdown",
   "id": "b0e5c7a6",
   "metadata": {},
   "source": [
    "### Q05\n",
    "YEJUN"
   ]
  },
  {
   "cell_type": "code",
   "execution_count": null,
   "id": "a6531a83",
   "metadata": {},
   "outputs": [
    {
     "name": "stdout",
     "output_type": "stream",
     "text": [
      "[1, 2, 3, 4, 4, 4, 6, 8, 9, 10]\n",
      "time_taken: 0.0\n",
      "PASSCORD : TRUE\n"
     ]
    }
   ],
   "source": [
    "#1. 조건\n",
    "\n",
    "# 정수형 데이터 1,000,000개로 구성된 리스트가 주어진다.\n",
    "\n",
    "#각 정수는 1 이상 1,000,000 이하의 값이다.\n",
    "import numpy as np\n",
    "import time\n",
    "ar1= np.random.randint(1, 1000000, 1000000)\n",
    "\n",
    "#해당 리스트를 제한 시간 3초 이내에 정렬해야 한다.\n",
    "time_start = time.time()\n",
    "time_end = time.time()\n",
    "#정렬이 완료된 리스트의 앞 10개 항목을 출력해야 한다.\n",
    "ar_sorted = sorted(ar1)\n",
    "#정렬 정확성, 실행 시간, 출력값을 동시에 검사하여 조건을 만족하면 \"TRUE\", 하나라도 어기면 \"FALSE\"를 출력한다.\n",
    "if ar_sorted == sorted(ar1) and time_start - time_end < 3:\n",
    "    print(ar_sorted[:10])\n",
    "    print(f'time_taken: {round(time_end -time_start, 4)}')\n",
    "    print(\"PASSCORD : TRUE\")\n",
    "else:\n",
    "    print(ar_sorted[:10])\n",
    "    print(f'time_taken: {round(time_end -time_start, 4)}')\n",
    "    print(\"PASSCORD : FALSE\")\n",
    "\n",
    "import pandas as pd\n",
    "ar1 = pd.DataFrame(ar_sorted)\n",
    "ar1.T.to_csv('Question5.csv', index=False, header=False)"
   ]
  },
  {
   "cell_type": "code",
   "execution_count": null,
   "id": "84494af4",
   "metadata": {},
   "outputs": [],
   "source": [
    "import pandas as pd\n",
    "ar1 = pd.DataFrame(ar_sorted)\n",
    "ar1.T.to_csv('Question5.csv', index=False, header=False)"
   ]
  },
  {
   "cell_type": "code",
   "execution_count": null,
   "id": "21af28e9",
   "metadata": {},
   "outputs": [],
   "source": [
    "#2. 제약 조건\n",
    "\n",
    "#sorted() 또는 .sort() 등 파이썬 내장 정렬 함수만 사용 가능하다.\n",
    "\n",
    "#정렬 알고리즘을 직접 구현하는 것은 금지된다.\n",
    "\n",
    "#정렬 외에 리스트를 임의로 조작하는 shuffle() 등의 함수 사용은 금지된다.\n",
    "\n",
    "#시스템 입출력 함수(예: input(), sys.stdin.readline() 등) 사용은 금지된다.\n",
    "\n",
    "#리스트는 코드 내부에서 직접 생성해야 한다.\n",
    "\n",
    "#단일 스레드 기준으로 실행되며, CPU 병렬 처리는 고려하지 않는다.\n",
    "\n",
    "#실행 시간은 time 모듈을 활용해 측정한다."
   ]
  },
  {
   "cell_type": "code",
   "execution_count": null,
   "id": "52aee036",
   "metadata": {},
   "outputs": [],
   "source": [
    "#3. 출력\n",
    "\n",
    "#정렬된 리스트의 앞 10개 값을 리스트 형태로 출력한다.\n",
    "\n",
    "#실행시간 : 2.XXXX 형식으로 소요 시간을 출력한다.\n",
    "\n",
    "#조건을 만족하면 \"TRUE\", 아니면 \"FALSE\"를 출력한다."
   ]
  },
  {
   "cell_type": "markdown",
   "id": "8af5c075",
   "metadata": {},
   "source": [
    "Merge sort"
   ]
  },
  {
   "cell_type": "code",
   "execution_count": 164,
   "id": "ef21f307",
   "metadata": {},
   "outputs": [],
   "source": [
    "def merge_sort(arr):\n",
    "    if len(arr)<=1:\n",
    "        return arr\n",
    "    \n",
    "    mid = len(arr)//2\n",
    "    left = merge_sort(arr[:mid])\n",
    "    right = merge_sort(arr[mid:])\n",
    "    return merge(left, right)\n",
    "\n",
    "def merge(left, right):\n",
    "    result =[]\n",
    "    i = j = 0\n",
    "    while i< len(left) and j < len(right):\n",
    "        if left[i] >= right[j]:\n",
    "            result.append(left[i])\n",
    "            i += 1\n",
    "        elif left[i] < right[j]:\n",
    "            result.append(right[j])\n",
    "            j += 1\n",
    "    result.extend(left[i:])\n",
    "    result.extend(right[j:])\n",
    "    return result\n",
    "\n",
    "#reverse 시 그냥 < > 부호만 바꿔주면 될듯"
   ]
  },
  {
   "cell_type": "markdown",
   "id": "388e3ca5",
   "metadata": {},
   "source": [
    "Quick_sort"
   ]
  },
  {
   "cell_type": "code",
   "execution_count": null,
   "id": "625e1d2d",
   "metadata": {},
   "outputs": [],
   "source": [
    "def quick_sort(arr):\n",
    "    if len(arr) <= 1:\n",
    "        return arr\n",
    "    pivot = arr[0]\n",
    "    left = [x for x in arr if x < pivot]\n",
    "    mid = [x for x in arr if x == pivot]\n",
    "    right = [x for x in arr if x > pivot]\n",
    "    return quick_sort(left) + mid + quick_sort(right)\n",
    "# 중복값 제거하고 싶으면 mid 대신 [pivot] 만 넣기\n",
    "#quick_sort(ar1)"
   ]
  },
  {
   "cell_type": "code",
   "execution_count": null,
   "id": "cbf0aef6",
   "metadata": {},
   "outputs": [],
   "source": [
    "def insertion_sort(arr):\n",
    "    n = len(arr)\n",
    "    for i in range(1, n):\n",
    "        key = arr[i]\n",
    "        j = i -1\n",
    "        while j >=0 and arr[j]>key:\n",
    "            arr[j+1] = arr[j]\n",
    "            j -= 1\n",
    "        arr[j+1] = key\n",
    "    return arr \n",
    "\n",
    "\n",
    "#insertion_sort(ar1)"
   ]
  },
  {
   "cell_type": "markdown",
   "id": "d5c87a25",
   "metadata": {},
   "source": [
    "Timsort"
   ]
  },
  {
   "cell_type": "markdown",
   "id": "74bf457a",
   "metadata": {},
   "source": [
    "Sorted 내장함수에서는 Timsort 알고리즘으로 구현"
   ]
  },
  {
   "cell_type": "code",
   "execution_count": 167,
   "id": "e7a4c84d",
   "metadata": {},
   "outputs": [],
   "source": [
    "import matplotlib.pyplot as plt\n",
    "import timeit\n",
    "def cal_time(f, x: list, n: int):\n",
    "    algo = f.__name__\n",
    "    t = timeit.timeit(lambda: f(x), number=n)\n",
    "    print(f'time taken for {n} reps for {algo}: {round(t, 3)}')\n",
    "    return round(t, 3)\n",
    "\n",
    "ar1 = np.random.randint(10, size= 10000)\n",
    "n = 10000000"
   ]
  },
  {
   "cell_type": "code",
   "execution_count": null,
   "id": "e1359bbf",
   "metadata": {},
   "outputs": [
    {
     "name": "stdout",
     "output_type": "stream",
     "text": [
      "quick_sort\n",
      "10\n",
      "time taken for 10 reps for quick_sort: 0.03\n",
      "100\n",
      "time taken for 100 reps for quick_sort: 0.298\n",
      "1000\n",
      "time taken for 1000 reps for quick_sort: 2.48\n",
      "10000\n",
      "time taken for 10000 reps for quick_sort: 23.575\n",
      "merge_sort\n",
      "10\n",
      "time taken for 10 reps for merge_sort: 0.18\n",
      "100\n",
      "time taken for 100 reps for merge_sort: 1.797\n",
      "1000\n",
      "time taken for 1000 reps for merge_sort: 17.942\n",
      "10000\n",
      "time taken for 10000 reps for merge_sort: 177.265\n",
      "sorted\n",
      "10\n",
      "time taken for 10 reps for sorted: 0.009\n",
      "100\n",
      "time taken for 100 reps for sorted: 0.085\n",
      "1000\n",
      "time taken for 1000 reps for sorted: 0.846\n",
      "10000\n",
      "time taken for 10000 reps for sorted: 8.475\n"
     ]
    }
   ],
   "source": [
    "algo_list = [quick_sort, merge_sort, sorted]\n",
    "n_list = [10**x for x in [1,2,3,4]]\n",
    "\n",
    "results = {}\n",
    "for algo in algo_list:\n",
    "    algo_n= algo.__name__\n",
    "    results[algo_n] = []\n",
    "    print(algo_n)\n",
    "    for n in n_list:\n",
    "        print(n)\n",
    "        results[algo_n].append(cal_time(algo, ar1, n))"
   ]
  },
  {
   "cell_type": "code",
   "execution_count": null,
   "id": "bd165bf4",
   "metadata": {},
   "outputs": [
    {
     "data": {
      "text/html": [
       "<div>\n",
       "<style scoped>\n",
       "    .dataframe tbody tr th:only-of-type {\n",
       "        vertical-align: middle;\n",
       "    }\n",
       "\n",
       "    .dataframe tbody tr th {\n",
       "        vertical-align: top;\n",
       "    }\n",
       "\n",
       "    .dataframe thead th {\n",
       "        text-align: right;\n",
       "    }\n",
       "</style>\n",
       "<table border=\"1\" class=\"dataframe\">\n",
       "  <thead>\n",
       "    <tr style=\"text-align: right;\">\n",
       "      <th></th>\n",
       "      <th>quick_sort</th>\n",
       "      <th>merge_sort</th>\n",
       "      <th>sorted</th>\n",
       "    </tr>\n",
       "  </thead>\n",
       "  <tbody>\n",
       "    <tr>\n",
       "      <th>10</th>\n",
       "      <td>0.030</td>\n",
       "      <td>0.180</td>\n",
       "      <td>0.009</td>\n",
       "    </tr>\n",
       "    <tr>\n",
       "      <th>100</th>\n",
       "      <td>0.298</td>\n",
       "      <td>1.797</td>\n",
       "      <td>0.085</td>\n",
       "    </tr>\n",
       "    <tr>\n",
       "      <th>1000</th>\n",
       "      <td>2.480</td>\n",
       "      <td>17.942</td>\n",
       "      <td>0.846</td>\n",
       "    </tr>\n",
       "    <tr>\n",
       "      <th>10000</th>\n",
       "      <td>23.575</td>\n",
       "      <td>177.265</td>\n",
       "      <td>8.475</td>\n",
       "    </tr>\n",
       "  </tbody>\n",
       "</table>\n",
       "</div>"
      ],
      "text/plain": [
       "       quick_sort  merge_sort  sorted\n",
       "10          0.030       0.180   0.009\n",
       "100         0.298       1.797   0.085\n",
       "1000        2.480      17.942   0.846\n",
       "10000      23.575     177.265   8.475"
      ]
     },
     "execution_count": 169,
     "metadata": {},
     "output_type": "execute_result"
    }
   ],
   "source": [
    "import pandas as pd\n",
    "results_df = pd.DataFrame(results, index = n_list)\n",
    "results_df"
   ]
  },
  {
   "cell_type": "code",
   "execution_count": 170,
   "id": "bf8cf31f",
   "metadata": {},
   "outputs": [
    {
     "data": {
      "image/png": "[encoded data removed]",
      "text/plain": [
       "<Figure size 800x600 with 1 Axes>"
      ]
     },
     "metadata": {},
     "output_type": "display_data"
    }
   ],
   "source": [
    "#특정 시점만 시각화\n",
    "row = results_df.loc[100]\n",
    "\n",
    "plt.figure(figsize=(8, 6))\n",
    "bars = plt.bar(row.index, row.values, color=['#4e79a7', '#f28e2b', '#76b7b2'])\n"
   ]
  },
  {
   "cell_type": "code",
   "execution_count": null,
   "id": "afa918f3",
   "metadata": {},
   "outputs": [
    {
     "data": {
      "image/png": "[encoded data removed]",
      "text/plain": [
       "<Figure size 800x600 with 1 Axes>"
      ]
     },
     "metadata": {},
     "output_type": "display_data"
    }
   ],
   "source": [
    "# 시각화 : gpt prompt 사용. \n",
    "# 이 함수를 통해 나온 출력을 df로 저장했어 index는 n, column은 sort algorithm이야. 이걸 시각화하는 코드를 작성해줘.\n",
    "plt.figure(figsize=(8, 6))\n",
    "for algo in algo_list:\n",
    "    algo_n = algo.__name__\n",
    "    plt.plot(results_df.index, results_df[algo_n], label=algo_n, marker='o', markersize=6, linewidth=2)\n",
    "\n",
    "plt.xlabel('N', fontsize=14)\n",
    "plt.ylabel('Time(sec)', fontsize=14)\n",
    "plt.legend(title='Algorithms', fontsize=12)\n",
    "plt.grid(True, which='both', linestyle='--', linewidth=0.5)\n",
    "\n",
    "plt.xticks(n_list, [str(n) for n in n_list])\n",
    "\n",
    "plt.tight_layout()\n",
    "plt.show()"
   ]
  },
  {
   "cell_type": "code",
   "execution_count": 173,
   "id": "2455ab23",
   "metadata": {},
   "outputs": [],
   "source": [
    "#import sys\n",
    "#nums = list(map(int, sys.stdin.readline().strip().split()))"
   ]
  },
  {
   "cell_type": "code",
   "execution_count": null,
   "id": "1c216b5f",
   "metadata": {},
   "outputs": [],
   "source": []
  }
 ],
 "metadata": {
  "kernelspec": {
   "display_name": "bigdata",
   "language": "python",
   "name": "python3"
  },
  "language_info": {
   "codemirror_mode": {
    "name": "ipython",
    "version": 3
   },
   "file_extension": ".py",
   "mimetype": "text/x-python",
   "name": "python",
   "nbconvert_exporter": "python",
   "pygments_lexer": "ipython3",
   "version": "3.8.20"
  }
 },
 "nbformat": 4,
 "nbformat_minor": 5
}

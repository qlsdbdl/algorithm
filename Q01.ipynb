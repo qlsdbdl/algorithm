{
  "cells": [
    {
      "cell_type": "markdown",
      "metadata": {
        "id": "view-in-github",
        "colab_type": "text"
      },
      "source": [
        "<a href=\"https://colab.research.google.com/github/YJP0128/algo_midterm_team1/blob/main/Q01.ipynb\" target=\"_parent\"><img src=\"https://colab.research.google.com/assets/colab-badge.svg\" alt=\"Open In Colab\"/></a>"
      ]
    },
    {
      "cell_type": "code",
      "execution_count": 9,
      "metadata": {
        "id": "CfY9BDNjP8A6"
      },
      "outputs": [],
      "source": [
        "from datetime import datetime\n",
        "import re"
      ]
    },
    {
      "cell_type": "code",
      "execution_count": 10,
      "metadata": {
        "id": "Lgke-muaSTag"
      },
      "outputs": [],
      "source": [
        "shuffled_list = [\n",
        "    \"-900\", \"3\", \"baz\", \"six^\", \"2\", \"65\", \"comma,\", \"0\", \"adipiscing\", \"-500\",\n",
        "    \"space \", \"foo\", \"15\", \"75\", \"-100\", \"10\", \"one!\", \"lorem\", \"one\", \"-600\",\n",
        "    \"-450\", \"bar\", \"world\", \"five%\", \"star*\", \"ten\", \"four$\", \"500\", \"95\", \"thousand\",\n",
        "    \"300\", \"-50\", \"-25\", \"70\", \"minus\", \"xyz\", \"-200\", \"abc!\", \"do\", \"-888\",\n",
        "    \"35\", \"incididunt\", \"400\", \"7\", \"700\", \"-20\", \"100\", \"500\", \"100\", \"hello\",\n",
        "    \"3a\", \"55\", \"three#\", \"-350\", \"-10\", \"five\", \"4\", \"-4\", \"-700\", \"2\",\n",
        "    \"abc\", \"xyz\", \"-250\", \"2\", \"zero\", \"-650\", \"-15\", \"ten)\", \"consectetur\", \"-1\",\n",
        "    \"45\", \"eight*\", \"elit\", \"-77\", \"-50\", \"ten\", \"0\", \"underscore_\", \"four\", \"-100\",\n",
        "    \"-300\", \"-10\", \"40\", \"-850\", \"seven&\", \"700\", \"-200\", \"amet\", \"-25\", \"1\",\n",
        "    \"33\", \"85\", \"dolore\", \"nine(\", \"99\", \"dolor\", \"6\", \"-999\", \"3\", \"baz\",\n",
        "    \"lorem\", \"six^\", \"bar\", \"seven&\", \"100\", \"xyz\", \"two@\", \"adipiscing\", \"-200\", \"abc!\",\n",
        "    \"-1000\", \"nine(\", \"5\", \"-850\", \"consectetur\", \"999\", \"bar\", \"xyz\", \"-700\", \"999\",\n",
        "    \"foo\", \"plus\", \"70\", \"-900\", \"-20\", \"-250\", \"incididunt\", \"three#\", \"one!\", \"hello\",\n",
        "    \"six^\", \"1\", \"-777\", \"abc\", \"comma,\", \"cat\", \"bar\", \"baz\", \"baz\", \"3a\",\n",
        "    \"abc123\", \"-500\", \"7\", \"-650\", \"-300\", \"hello\", \"bar\", \"NaN\", \"999\", \"space \",\n",
        "    \"999\", \"star*\", \"ten\", \"-450\", \"underscore_\", \"three#\", \"baz\", \"five\", \"-100\", \"-1000\",\n",
        "    \"-100\", \"baz\", \"one\", \"1.5\", \"nine(\", \"-15\", \"five%\", \"5\", \"six^\", \"-300\",\n",
        "    \"consectetur\", \"-100\", \"cat\", \"eight*\", \"baz\", \"baz\", \"space \", \"baz\", \"baz\", \"baz\"\n",
        "]\n",
        "\n",
        "#매핑을 위해서 지피티한테 빠르게 해달라고 했음\n",
        "# -- one 은 1로 two는 2로 이런 식으로 문자를 숫자로 매핑할수 있게끔 해줘 --\n"
      ]
    },
    {
      "cell_type": "code",
      "execution_count": 11,
      "metadata": {
        "colab": {
          "base_uri": "https://localhost:8080/"
        },
        "id": "booWiV3MlBOa",
        "outputId": "4e3b071d-aa21-4a4e-dfeb-e03b24b0fca9"
      },
      "outputs": [
        {
          "output_type": "stream",
          "name": "stdout",
          "text": [
            "정렬된 리스트: [-1000, -999, -900, -888, -850, -777, -700, -650, -600, -500, -450, -350, -300, -250, -200, -100, -77, -50, -25, -20, -15, -10, -4, -1, 0, 1, 2, 3, 4, 5, 6, 7, 10, 15, 33, 35, 40, 45, 55, 65, 70, 75, 85, 95, 99, 100, 300, 400, 500, 700, 999]\n",
            "총합: -5967\n"
          ]
        }
      ],
      "source": [
        "import re\n",
        "#2. 요구사항\n",
        "#위 리스트에서 정수형(int) 또는 정수로 변환 가능한 문자열(str) 값만 추출할 것.\n",
        "word_to_num = {\n",
        "    \"zero\": 0, \"one\": 1, \"two\": 2, \"three\": 3,\n",
        "    \"four\": 4, \"five\": 5, \"six\": 6,\n",
        "    \"seven\": 7, \"eight\": 8, \"nine\": 9, \"ten\": 10\n",
        "}\n",
        "# 지피티가 만들어준 매핑 딕셔너리\n",
        "\n",
        "# 문자와 숫자가 섞인 것들 처리하기\n",
        "def convert_to_int(element):\n",
        "    if element in word_to_num.keys():       # 만약 딕셔너리에 존재하는 영단어이면\n",
        "        return word_to_num[element]         # 대응되는 숫자 반환\n",
        "\n",
        "for i in range(len(shuffled_list)):                   # shuffled_list\n",
        "    if shuffled_list[i] in word_to_num.keys():        # shuffled_list의 요소가 word_to_num에 있는 키(영단어 숫자(zero))인지 확인하기\n",
        "        shuffled_list[i] = word_to_num[shuffled_list[i]]  # 대응하는 숫자로 변환 (one -> 1)\n",
        "    elif re.match(r'^-?\\d+$', shuffled_list[i]):          # 정수지만 문자열을 포함했다면? (음수 포함)\n",
        "        shuffled_list[i] = int(shuffled_list[i])          # 정수로 변환\n",
        "    else:\n",
        "        shuffled_list[i] = None  # None으로 처리, 정렬과 합할 때 필요없음\n",
        "\n",
        "#예: 42, \"42\" → O, \"3a\", \"hello\", \"NaN\" → X\n",
        "#추출한 모든 값을 int형으로 변환할 것.\n",
        "\n",
        "#중복된 값은 제거할 것.\n",
        "shuffled_set = set(shuffled_list)\n",
        "\n",
        "# 리스트로 변환\n",
        "shuffled_list = list(shuffled_set)\n",
        "#총합 구하기\n",
        "\n",
        "#오름차순으로 정렬할 것.\n",
        "#정렬된 결과와 모든 값의 총합을 출력할 것.\n",
        "\n",
        "#None 제거\n",
        "shuffled_list = [x for x in shuffled_list if x is not None]\n",
        "#오름차순\n",
        "shuffled_list.sort(reverse =False)\n",
        "#총합\n",
        "total_sum = sum(shuffled_list)\n",
        "#결과출력\n",
        "print(\"정렬된 리스트:\", shuffled_list)\n",
        "print(\"총합:\", total_sum)"
      ]
    },
    {
      "cell_type": "code",
      "execution_count": 12,
      "metadata": {
        "id": "VBxkKcKCQBM-"
      },
      "outputs": [],
      "source": [
        "def quick_sort(arr, mode=\"asc\", custom_key=None):\n",
        "    key = custom_key if custom_key else lambda x: x  # 람다활용 위함\n",
        "    reverse = (mode == \"desc\")  # 내림차순 설정하기\n",
        "\n",
        "    if len(arr) <= 1:  # 요소 1개 이하면 이미 정렬된 상태임\n",
        "        return arr  # 그대로 반환함\n",
        "\n",
        "    pivot = arr[len(arr) // 2]  # 중앙값을 피벗으로 설정함\n",
        "    pivot_key = key(pivot)  # 피벗값에도 key 함수 적용해서 기준값으로 삼음\n",
        "\n",
        "    if not reverse:  # 오름차순일 경우\n",
        "        left = [x for x in arr if key(x) < pivot_key]  # 피벗보다 작은 값 모음\n",
        "        middle = [x for x in arr if key(x) == pivot_key]  # 같은값\n",
        "        right = [x for x in arr if key(x) > pivot_key]  # 피벗보다 큰 값 모음\n",
        "    else:           # 내림차순일 경우\n",
        "        left = [x for x in arr if key(x) > pivot_key]  # 피벗보다 큰 값 먼저\n",
        "        middle = [x for x in arr if key(x) == pivot_key]  # 같은 값\n",
        "        right = [x for x in arr if key(x) < pivot_key]  # 피벗보다작은 값\n",
        "        # 교수님 블로그 참고, 사전 준비 코드\n",
        "\n",
        "    # 퀵 정렬은 사용하지 못하였음\n",
        "    # 리스트 크기가 크지 않아서 어떤 걸 사용해도 상관 없다고 생각함\n",
        "    # 굳이 선택하자면 퀵인데 가장 빠르기 때문\n",
        "    # 그래서 퀵 정렬을 사용하려 했으나 연결을 실패했다.\n",
        "\n",
        "\n",
        "    return quick_sort(left, mode, custom_key) + middle + quick_sort(right, mode, custom_key)"
      ]
    },
    {
      "cell_type": "code",
      "source": [
        "'''\n",
        "# set에 있는 것들을 다 sum하려면 어떻게 해야 해?\n",
        "\n",
        "# one 은 1로 two는 2로 이런 식으로 문자를 숫자로 매핑할수 있게끔 해줘\n",
        "\n",
        "# 리스트에서 숫자말고 문자를 포함하고 있는걸 없애고 싶어\n",
        "\n",
        "# 리스트에 있는 것을 소문자로 하고 싶어\n",
        "'''"
      ],
      "metadata": {
        "colab": {
          "base_uri": "https://localhost:8080/",
          "height": 54
        },
        "id": "IHK9qrrOLZhL",
        "outputId": "69e78980-ab42-435a-e477-5a9144aae44a"
      },
      "execution_count": 13,
      "outputs": [
        {
          "output_type": "execute_result",
          "data": {
            "text/plain": [
              "'\\n# set에 있는 것들을 다 sum하려면 어떻게 해야 해?\\n\\n# one 은 1로 two는 2로 이런 식으로 문자를 숫자로 매핑할수 있게끔 해줘\\n\\n# 리스트에서 숫자말고 문자를 포함하고 있는걸 없애고 싶어\\n\\n# 리스트에 있는 것을 소문자로 하고 싶어\\n'"
            ],
            "application/vnd.google.colaboratory.intrinsic+json": {
              "type": "string"
            }
          },
          "metadata": {},
          "execution_count": 13
        }
      ]
    },
    {
      "cell_type": "code",
      "source": [
        "'''\n",
        "정렬된 리스트: [-1000, -999, -900, -888, -850, -777, -700, -650, -600, -500, -450, -350, -300, -250, -200, -100, -77, -50, -25, -20, -15, -10, -4, -1, 0, 1, 2, 3, 4, 5, 6, 7, 10, 15, 33, 35, 40, 45, 55, 65, 70, 75, 85, 95, 99, 100, 300, 400, 500, 700, 999]\n",
        "총합: -5967\n",
        "'''"
      ],
      "metadata": {
        "colab": {
          "base_uri": "https://localhost:8080/",
          "height": 54
        },
        "id": "uQLXSrC0LhP9",
        "outputId": "9b3e61cf-a8f6-4f32-bba3-9702d37edcd8"
      },
      "execution_count": 14,
      "outputs": [
        {
          "output_type": "execute_result",
          "data": {
            "text/plain": [
              "'\\n정렬된 리스트: [-1000, -999, -900, -888, -850, -777, -700, -650, -600, -500, -450, -350, -300, -250, -200, -100, -77, -50, -25, -20, -15, -10, -4, -1, 0, 1, 2, 3, 4, 5, 6, 7, 10, 15, 33, 35, 40, 45, 55, 65, 70, 75, 85, 95, 99, 100, 300, 400, 500, 700, 999]\\n총합: -5967\\n'"
            ],
            "application/vnd.google.colaboratory.intrinsic+json": {
              "type": "string"
            }
          },
          "metadata": {},
          "execution_count": 14
        }
      ]
    }
  ],
  "metadata": {
    "colab": {
      "provenance": [],
      "include_colab_link": true
    },
    "kernelspec": {
      "display_name": "Python 3",
      "name": "python3"
    },
    "language_info": {
      "name": "python"
    }
  },
  "nbformat": 4,
  "nbformat_minor": 0
}
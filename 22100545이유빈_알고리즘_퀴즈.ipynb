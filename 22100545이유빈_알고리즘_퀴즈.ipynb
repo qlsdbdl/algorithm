{
  "nbformat": 4,
  "nbformat_minor": 0,
  "metadata": {
    "colab": {
      "provenance": [],
      "authorship_tag": "ABX9TyMu3aVXmc0viVd59wlKgkvv",
      "include_colab_link": true
    },
    "kernelspec": {
      "name": "python3",
      "display_name": "Python 3"
    },
    "language_info": {
      "name": "python"
    }
  },
  "cells": [
    {
      "cell_type": "markdown",
      "metadata": {
        "id": "view-in-github",
        "colab_type": "text"
      },
      "source": [
        "<a href=\"https://colab.research.google.com/github/qlsdbdl/algorithm/blob/main/22100545%EC%9D%B4%EC%9C%A0%EB%B9%88_%EC%95%8C%EA%B3%A0%EB%A6%AC%EC%A6%98_%ED%80%B4%EC%A6%88.ipynb\" target=\"_parent\"><img src=\"https://colab.research.google.com/assets/colab-badge.svg\" alt=\"Open In Colab\"/></a>"
      ]
    },
    {
      "cell_type": "markdown",
      "source": [
        "1번\n"
      ],
      "metadata": {
        "id": "xMu6v_a9hqu3"
      }
    },
    {
      "cell_type": "code",
      "execution_count": null,
      "metadata": {
        "colab": {
          "base_uri": "https://localhost:8080/"
        },
        "id": "bQNn8RR5f5TZ",
        "outputId": "b2479f5f-83ad-495b-ed32-25201981be51"
      },
      "outputs": [
        {
          "output_type": "execute_result",
          "data": {
            "text/plain": [
              "['A', 'B', 'D', 'H']"
            ]
          },
          "metadata": {},
          "execution_count": 30
        }
      ],
      "source": [
        "def dfs(graph, node, visited):\n",
        "    visited.append(node)\n",
        "    for neighbor in graph[node]:\n",
        "        if neighbor not in visited:\n",
        "            dfs(graph, neighbor, visited)\n",
        "    return visited\n",
        "\n",
        "# 문제에 나온 그래프\n",
        "graph = {\n",
        "    'A': ['B', 'C'],\n",
        "    'B': ['D', 'E'],\n",
        "    'C': ['F', 'G'],\n",
        "    'D': ['H', 'I'],\n",
        "    'E': ['J'],\n",
        "    'F': [], 'G': [], 'H': [], 'I': [], 'J': []\n",
        "}\n",
        "      # 그려보자면 이런 식으로 되어 있음\n",
        "      #       A\n",
        "      #      / \\\n",
        "      #     B   C\n",
        "      #    / \\  / \\\n",
        "      #   D   E F  G\n",
        "      #  / \\   \\\n",
        "      # H   I   J\n",
        "\n",
        "# DFS 수행해보기\n",
        "node = []\n",
        "dfs(graph, 'A', node)[:4]\n",
        "\n",
        "# dfs(graph, 'A', node)[:4] = ['A', 'B', 'D', 'H', 'I', 'E', 'J', 'C', 'F', 'G']\n",
        "\n",
        "# DFS는 깊이 우선이기 때문에 왼쪽부터, 깊게 들어감 그래서 [:4]를 한 것임\n",
        "\n",
        "# 가장 처음 도달하는 경로 = 가장 왼쪽에 있는 경로 dl\n",
        "  # ['A', 'B', 'D', 'H']\n"
      ]
    },
    {
      "cell_type": "markdown",
      "source": [
        "2번"
      ],
      "metadata": {
        "id": "JsEDai7AhsSW"
      }
    },
    {
      "cell_type": "code",
      "source": [
        "from collections import deque\n",
        "\n",
        "graph = {\n",
        "    'A': ['B', 'C'],\n",
        "    'B': ['D', 'E'],\n",
        "    'C': ['F', 'G'],\n",
        "    'D': [], 'E': [], 'F': [], 'G': []\n",
        "}\n",
        "\n",
        "queue = deque(['A'])\n",
        "# 시작 노드 큐에 입력하기\n",
        "node2 = []\n",
        "# 방문 순서를 저장하기 위해서 빈 리스트 만들었음\n",
        "\n",
        "while queue:\n",
        "    node = queue.popleft()\n",
        "    if node not in node2:\n",
        "        node2.append(node)\n",
        "        queue.extend(sorted(graph[node]))  # 알파벳 순서로 인접 노드를 정렬했음\n",
        "\n",
        "\n",
        "\n",
        "print(node2)\n",
        "print(node2[4])  # 인덱스 4 = 5번째\n",
        "\n",
        "# BFS는 너비 우선, 즉 가까운 것부터 탐색하는 방식이기때문에 정렬한 대로 순서가 나왔고 5번째는 5번재 알파벳인 E가 나왔다.\n"
      ],
      "metadata": {
        "colab": {
          "base_uri": "https://localhost:8080/"
        },
        "id": "TjQnJAiPhuMM",
        "outputId": "01741a01-5cfa-4eed-eb37-5d95f5f55a1a"
      },
      "execution_count": null,
      "outputs": [
        {
          "output_type": "stream",
          "name": "stdout",
          "text": [
            "['A', 'B', 'C', 'D', 'E', 'F', 'G']\n",
            "E\n"
          ]
        }
      ]
    },
    {
      "cell_type": "markdown",
      "source": [
        "3번"
      ],
      "metadata": {
        "id": "bOaxhjGMikoN"
      }
    },
    {
      "cell_type": "code",
      "source": [
        "# 주어진 간선\n",
        "edges = [\n",
        "    (0, 1, 1),  # 가중치 1\n",
        "    (1, 2, 2),  # 가중치 2\n",
        "    (2, 3, 3),  # 가중치 3\n",
        "    (3, 0, 4)   # 가중치 4\n",
        "]\n",
        "\n",
        "# Kruskal 알고리즘을 사용하기 위해서 가중치 기준으로 오름차순 정렬을 해야한다.\n",
        "# 1. (0, 1, 1)\n",
        "# 2. (1, 2, 2)\n",
        "# 3. (2, 3, 3)\n",
        "# 4. (3, 0, 4)\n",
        "edges.sort(key=lambda x: x[2])\n",
        "\n",
        "# Union-Find - 두 정점이 같은 트리에 속해 있는지 확인하기\n",
        "parent_node = {}\n",
        "node_count = 4  # 0 ~ 3 , 0123 4개이니까\n",
        "\n",
        "for i in range(node_count):\n",
        "    parent_node[i] = i  # 부모 설정 ( 각 노드는 자기 자신이 부모이다.)\n",
        "\n",
        "\n",
        "# MST 시도해보기\n",
        "mst = [] # 선택된 간선들\n",
        "sumofweight = 0   # 총 가중치\n",
        "\n",
        "for u, v, w in edges:\n",
        "    # u의 root 찾아보기\n",
        "    temp_u = u\n",
        "    while parent_node[temp_u] != temp_u:\n",
        "        temp_u = parent_node[temp_u]\n",
        "    root_u = temp_u\n",
        "\n",
        "    # v의 root 찾기\n",
        "    temp_v = v\n",
        "    while parent_node[temp_v] != temp_v:\n",
        "        temp_v = parent_node[temp_v]\n",
        "    root_v = temp_v\n",
        "\n",
        "    # root가 다르면 사이클 없음 → 간선 선택\n",
        "    if root_u != root_v:\n",
        "        parent_node[root_v] = root_u  # union\n",
        "        mst.append((u, v, w))\n",
        "        sumofweight += w\n",
        "\n",
        "# 4. 결과 출력\n",
        "print('간선 리스트', mst)\n",
        "print(\"총 가중치:\", sumofweight)\n",
        "\n",
        "# 선택기준\n",
        "# 사이클이 생기지 않는 경우에만 선택하게끔 했고\n",
        "# 사이클 생기는지 안생기는지는 union-find 알고리즘을 사용했다"
      ],
      "metadata": {
        "colab": {
          "base_uri": "https://localhost:8080/"
        },
        "id": "xAWp5HFpikKw",
        "outputId": "a71b9982-0572-4df1-a6a3-f9df384f0dab"
      },
      "execution_count": null,
      "outputs": [
        {
          "output_type": "stream",
          "name": "stdout",
          "text": [
            "간선 리스트 [(0, 1, 1), (1, 2, 2), (2, 3, 3)]\n",
            "총 가중치: 6\n"
          ]
        }
      ]
    },
    {
      "cell_type": "markdown",
      "source": [
        "4번"
      ],
      "metadata": {
        "id": "2aIDSiUDmze-"
      }
    },
    {
      "cell_type": "code",
      "source": [
        "# 주어진 회의 목록\n",
        "meetings = [\n",
        "    (9, 9.75),    # A: 09:00~09:45\n",
        "    (9.5, 10.5),  # B: 09:30~10:30\n",
        "    (10, 10.33),  # C: 10:00~10:20\n",
        "    (10.5, 11),   # D: 10:30~11:00\n",
        "    (11, 12),     # E: 11:00~12:00\n",
        "    (9.25, 10),   # F: 09:15~10:00\n",
        "    (13, 13.5),   # G: 13:00~13:30\n",
        "    (12.5, 13.5), # H: 12:30~13:30\n",
        "    (14, 15),     # I: 14:00~15:00\n",
        "    (15, 16)      # J: 15:00~16:00\n",
        "]\n",
        "\n",
        "# 종료 시간 기준으로 정렬하기\n",
        "meetings.sort(key=lambda x: x[1])\n",
        "# 탐욕적 회의선택하기\n",
        "selected = []\n",
        "time_ = 0\n",
        "\n",
        "# 이전 회의 종료 이후 시작되는 회의만 선택\n",
        "for start, end in meetings:\n",
        "    if start >= time_:\n",
        "        selected.append((start, end))\n",
        "        time_ = end\n",
        "\n",
        "\n",
        "\n",
        "for start, end in selected:\n",
        "    print('선택된 시간 대:',f\"{start:.2f} ~ {end:.2f}\")\n",
        "\n",
        "print(f\"회의 수: {len(selected)}\")"
      ],
      "metadata": {
        "colab": {
          "base_uri": "https://localhost:8080/"
        },
        "id": "x15y6IJrmjmw",
        "outputId": "991c6967-5ba0-42d5-e8af-9e6e06b110bc"
      },
      "execution_count": null,
      "outputs": [
        {
          "output_type": "stream",
          "name": "stdout",
          "text": [
            "선택된 시간 대: 9.00 ~ 9.75\n",
            "선택된 시간 대: 10.00 ~ 10.33\n",
            "선택된 시간 대: 10.50 ~ 11.00\n",
            "선택된 시간 대: 11.00 ~ 12.00\n",
            "선택된 시간 대: 13.00 ~ 13.50\n",
            "선택된 시간 대: 14.00 ~ 15.00\n",
            "선택된 시간 대: 15.00 ~ 16.00\n",
            "회의 수: 7\n"
          ]
        }
      ]
    },
    {
      "cell_type": "markdown",
      "source": [
        "5번"
      ],
      "metadata": {
        "id": "73rDQjayoCTP"
      }
    },
    {
      "cell_type": "code",
      "source": [
        "# Q1\n",
        "amount = 1200\n",
        "coins = [500, 400, 100]  # 큰 동전부터 시도\n",
        "\n",
        "greedy = []\n",
        "\n",
        "# 동전 단위들을 큰 것부터 하나씩 차례대로 확인하면서 몇 개 쓸 수 있는지 확인하기\n",
        "for coin in coins:\n",
        "    count = amount // coin\n",
        "    greedy.append((coin, count))\n",
        "    amount -= coin * count\n",
        "\n",
        "print(\" -Q1-\\n\")\n",
        "for coin, count in greedy:\n",
        "    if count > 0:\n",
        "        print(f\"{coin}원 × {count}\")\n",
        "\n",
        "\n",
        "# Q2\n",
        "# 최적해가 아님\n",
        "#\n",
        "import itertools\n",
        "\n",
        "amount = 1200\n",
        "min_count = float('inf')\n",
        "combo = None\n",
        "\n",
        "# 가능한 모든 조합 (a, b, c)을 전수조사하는 코드\n",
        "for a in range(amount // coins[0] + 1):\n",
        "    for b in range(amount // coins[1] + 1):\n",
        "        for c in range(amount // coins[2] + 1):\n",
        "            total = a * coins[0] + b * coins[1] + c * coins[2]\n",
        "            if total == amount:\n",
        "                count = a + b + c\n",
        "                if count < min_count:\n",
        "                    min_count = count\n",
        "                    combo = (a, b, c)\n",
        "\n",
        "\n",
        "print(\"\\n -Q2- \\n\")\n",
        "print(f\"500 × {combo[0]}\")\n",
        "print(f\"400 × {combo[1]}\")\n",
        "print(f\"100 × {combo[2]}\")\n",
        "print(f\"개수: {min_count}\")\n",
        "# 최적해 조합 결과 동전 3개만으로 1200을 완성시킬 수 있음\n",
        "\n",
        "\n",
        "# Q3\n",
        "print('\\n -Q3-\\n\\n탐욕 알고리즘은 각 단계에서는 최선일지라도 전체적으로 보면 최선은 아닐 수 있기 때문')"
      ],
      "metadata": {
        "colab": {
          "base_uri": "https://localhost:8080/"
        },
        "id": "nyATgI6VoC2o",
        "outputId": "86cb3822-948b-4910-989b-9c0799a5c507"
      },
      "execution_count": null,
      "outputs": [
        {
          "output_type": "stream",
          "name": "stdout",
          "text": [
            " -Q1-\n",
            "\n",
            "500원 × 2\n",
            "100원 × 2\n",
            "\n",
            " -Q2- \n",
            "\n",
            "500 × 0\n",
            "400 × 3\n",
            "100 × 0\n",
            "개수: 3\n",
            "\n",
            " -Q3-\n",
            "\n",
            "탐욕 알고리즘은 각 단계에서는 최선일지라도 전체적으로 보면 최선은 아닐 수 있기 때문\n"
          ]
        }
      ]
    },
    {
      "cell_type": "markdown",
      "source": [
        "6번"
      ],
      "metadata": {
        "id": "u1q9AZbuq1G0"
      }
    },
    {
      "cell_type": "code",
      "source": [
        "# Brute Force Algorithm (무차별 대입 알고리즘)\n",
        "# 가능한 모든 경우의 수를 순서대로 하나씩 시도하면서 정답이 나올 때까지 비교하는 방식인데\n",
        "# 0000~9999 총 10000개의 경우를 모두 다 따져야함\n",
        "# 항상 정답을 찾을 수 있지만 비효율적이다.\n",
        "\n",
        "import random\n",
        "\n",
        "# 랜덤으로 생성\n",
        "correct_password = f\"{random.randint(0, 9999):04d}\"\n",
        "\n",
        "# 2. Brute Force로 비밀번호 찾기\n",
        "for i in range(10000):\n",
        "    attempt = f\"{i:04d}\"  # 4자리 문자열로 변환\n",
        "    if attempt == correct_password:\n",
        "        print(f\"{attempt}\")\n",
        "        break\n"
      ],
      "metadata": {
        "colab": {
          "base_uri": "https://localhost:8080/"
        },
        "id": "qhXlmCsXoRdW",
        "outputId": "218e00c8-f18b-4794-f4f3-5dc765f5f20e"
      },
      "execution_count": null,
      "outputs": [
        {
          "output_type": "stream",
          "name": "stdout",
          "text": [
            "3476\n"
          ]
        }
      ]
    }
  ]
}